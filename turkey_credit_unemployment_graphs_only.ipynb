{
 "cells": [
  {
   "cell_type": "code",
   "execution_count": null,
   "id": "64e242fe",
   "metadata": {},
   "outputs": [],
   "source": [
    "plt.figure(figsize=(12, 6))\n",
    "sns.barplot(data=ilk10_sehir, x=\"Toplam\", y=\"Il_Bolge\", palette=\"rocket\")\n",
    "\n",
    "plt.title(\"Toplam Kredi Tutarına Göre En Borçlu 10 İl (2023)\", fontsize=14)\n",
    "plt.xlabel(\"Toplam Kredi (Milyon TL)\", fontsize=12)\n",
    "plt.ylabel(\"İl\", fontsize=12)\n",
    "plt.xticks(fontsize=10)\n",
    "plt.yticks(fontsize=10)\n",
    "plt.grid(axis=\"x\", linestyle=\"--\", alpha=0.3)\n",
    "\n",
    "plt.tight_layout()\n",
    "plt.show()"
   ]
  },
  {
   "cell_type": "code",
   "execution_count": null,
   "id": "01a2bd37",
   "metadata": {},
   "outputs": [],
   "source": [
    "import seaborn as sns\n",
    "import matplotlib.pyplot as plt\n",
    "\n",
    "plt.figure(figsize=(8, 6))\n",
    "sns.scatterplot(data=df_merged, x=\"Issizlik_Orani\", y=\"Toplam\")\n",
    "\n",
    "plt.title(\"İşsizlik Oranı ile Toplam Kredi Tutarı İlişkisi\", fontsize=13)\n",
    "plt.xlabel(\"İşsizlik Oranı (%)\")\n",
    "plt.ylabel(\"Toplam Kredi Tutarı (Milyon TL)\")\n",
    "plt.grid(True)\n",
    "plt.tight_layout()\n",
    "plt.show()"
   ]
  },
  {
   "cell_type": "code",
   "execution_count": null,
   "id": "911e82aa",
   "metadata": {},
   "outputs": [],
   "source": [
    "import seaborn as sns\n",
    "import matplotlib.pyplot as plt\n",
    "\n",
    "plt.figure(figsize=(10,6))\n",
    "sns.regplot(data=df_final, x=\"Issizlik_Orani\", y=\"Kisi_Basi_Kredi\", ci=None, scatter_kws={\"s\": 60})\n",
    "plt.title(\"İşsizlik Oranı ile Kişi Başı Kredi Arasındaki İlişki\")\n",
    "plt.xlabel(\"İşsizlik Oranı (%)\")\n",
    "plt.ylabel(\"Kişi Başı Kredi (TL)\")\n",
    "plt.grid(True)\n",
    "plt.tight_layout()\n",
    "plt.show()"
   ]
  },
  {
   "cell_type": "code",
   "execution_count": null,
   "id": "ea906f8b",
   "metadata": {},
   "outputs": [],
   "source": [
    "# Z skorlarını hesapla\n",
    "df_final[\"Z_Kredi\"] = zscore(df_final[\"Toplam\"])\n",
    "df_final[\"Z_Issizlik\"] = zscore(df_final[\"Issizlik_Orani\"])\n",
    "df_final[\"Toplam_Z_Skoru\"] = df_final[\"Z_Kredi\"] + df_final[\"Z_Issizlik\"]\n",
    "\n",
    "# En riskli 10 şehir\n",
    "en_riskli_10 = df_final.sort_values(\"Toplam_Z_Skoru\", ascending=False).head(10)\n",
    "\n",
    "# Grafik çiz\n",
    "plt.figure(figsize=(10, 6))\n",
    "sns.barplot(data=en_riskli_10, x=\"Il_Bolge\", y=\"Toplam_Z_Skoru\", palette=\"Reds_r\")\n",
    "plt.title(\"En Riskli 10 Şehir - Ekonomik Risk Skoru\")\n",
    "plt.ylabel(\"Toplam Z-Skoru (Kredi + İşsizlik)\")\n",
    "plt.xlabel(\"Şehir\")\n",
    "plt.xticks(rotation=45)\n",
    "plt.tight_layout()\n",
    "plt.show()"
   ]
  }
 ],
 "metadata": {},
 "nbformat": 4,
 "nbformat_minor": 5
}
