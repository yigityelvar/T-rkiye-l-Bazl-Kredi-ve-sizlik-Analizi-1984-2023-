{
 "cells": [
  {
   "cell_type": "markdown",
   "id": "9bc64f01",
   "metadata": {},
   "source": [
    "# Türkiye'de Kredi Yoğunluğu Analizi (1984-2023)\n",
    "Bu analiz, Türkiye Bankalar Birliği'nin sağladığı **il bazlı kredi verileri** üzerinden yapılmıştır. Amacımız, 2023 yılı itibariyle Türkiye’de hangi illerde bireysel ve sektörel kredi kullanımının yoğunlaştığını ortaya koymak ve bölgesel karşılaştırmalar yapmaktır."
   ]
  },
  {
   "cell_type": "markdown",
   "id": "02b9e8a9",
   "metadata": {},
   "source": [
    "## Veri Seti Bilgisi\n",
    "- 📁 Kaynak: Türkiye Bankalar Birliği (TBB)\n",
    "- 📅 Kapsam: 1984 – 2023\n",
    "- 🗂️ İçerik: İl bazlı toplam krediler ve sektör bazlı dağılım (Tarım, Gayrimenkul, Turizm, vb.)\n",
    "- 📊 Dosya: `Kredi_Analizi_TBB_1984_2023.xls`"
   ]
  },
  {
   "cell_type": "code",
   "execution_count": null,
   "id": "770d2793",
   "metadata": {},
   "outputs": [],
   "source": [
    "import pandas as pd\n",
    "import matplotlib.pyplot as plt\n",
    "import seaborn as sns\n",
    "\n",
    "plt.rcParams[\"font.family\"] = \"DejaVu Sans\""
   ]
  },
  {
   "cell_type": "code",
   "execution_count": null,
   "id": "352a990b",
   "metadata": {},
   "outputs": [],
   "source": [
    "from google.colab import drive\n",
    "drive.mount('/content/drive')"
   ]
  },
  {
   "cell_type": "code",
   "execution_count": null,
   "id": "437c70d5",
   "metadata": {},
   "outputs": [],
   "source": [
    "import pandas as pd\n",
    "\n",
    "dosya_yolu = \"/content/drive/MyDrive/Veri_Analizi_Projeleri_Yelvar/Kredi_Analizi_TBB_1984_2023.xls\"\n",
    "\n",
    "# Excel dosyasını oku\n",
    "df = pd.read_excel(dosya_yolu)\n",
    "\n",
    "# İlk 5 satırı göster\n",
    "df.head()"
   ]
  },
  {
   "cell_type": "code",
   "execution_count": null,
   "id": "fb559025",
   "metadata": {},
   "outputs": [],
   "source": [
    "# Gerçek veriler 4. satırdan itibaren başlıyor\n",
    "df = pd.read_excel(dosya_yolu, skiprows=4)\n",
    "\n",
    "# İlk 5 satırı tekrar göster\n",
    "df.head()"
   ]
  },
  {
   "cell_type": "code",
   "execution_count": null,
   "id": "68a50aed",
   "metadata": {},
   "outputs": [],
   "source": [
    "df.columns = [\n",
    "    \"Il_Bolge\", \"Tarim\", \"Gayrimenkul\", \"Mesleki\", \"Denizcilik\",\n",
    "    \"Turizm\", \"Diger\", \"Ihtisas_Disi\", \"Toplam\"\n",
    "]\n",
    "\n",
    "# İlk 5 satırı tekrar görelim\n",
    "df.head()"
   ]
  },
  {
   "cell_type": "code",
   "execution_count": null,
   "id": "03fc475a",
   "metadata": {},
   "outputs": [],
   "source": [
    "# Il_Bolge sütununda boş olanları at (örneğin NaN olan 1. satır)\n",
    "df = df[df[\"Il_Bolge\"].notna()].reset_index(drop=True)"
   ]
  },
  {
   "cell_type": "markdown",
   "id": "fa666997",
   "metadata": {},
   "source": [
    "## Veri Temizliği\n",
    "- İlk 4 satır başlık ve açıklama içerdiği için `skiprows=4` ile geçildi\n",
    "- Sütun adları manuel olarak düzenlendi\n",
    "- `NaN` içeren başlık ve boş satırlar silindi\n",
    "- Sütun veri tipleri doğrulandı (`float64`, `object`)"
   ]
  },
  {
   "cell_type": "code",
   "execution_count": null,
   "id": "f61df18f",
   "metadata": {},
   "outputs": [],
   "source": [
    "df.head()"
   ]
  },
  {
   "cell_type": "code",
   "execution_count": null,
   "id": "5253834c",
   "metadata": {},
   "outputs": [],
   "source": [
    "df.info()"
   ]
  },
  {
   "cell_type": "code",
   "execution_count": null,
   "id": "3d28f31a",
   "metadata": {},
   "outputs": [],
   "source": [
    "# Türkiye'deki 81 il listesi (tam liste)\n",
    "sehir_listesi = [\n",
    "    \"Adana\", \"Adıyaman\", \"Afyonkarahisar\", \"Ağrı\", \"Aksaray\", \"Amasya\", \"Ankara\", \"Antalya\", \"Artvin\",\n",
    "    \"Aydın\", \"Balıkesir\", \"Bartın\", \"Batman\", \"Bayburt\", \"Bilecik\", \"Bingöl\", \"Bitlis\", \"Bolu\",\n",
    "    \"Burdur\", \"Bursa\", \"Çanakkale\", \"Çankırı\", \"Çorum\", \"Denizli\", \"Diyarbakır\", \"Düzce\", \"Edirne\",\n",
    "    \"Elazığ\", \"Erzincan\", \"Erzurum\", \"Eskişehir\", \"Gaziantep\", \"Giresun\", \"Gümüşhane\", \"Hakkari\",\n",
    "    \"Hatay\", \"Iğdır\", \"Isparta\", \"İstanbul\", \"İzmir\", \"Kahramanmaraş\", \"Karabük\", \"Karaman\",\n",
    "    \"Kars\", \"Kastamonu\", \"Kayseri\", \"Kırıkkale\", \"Kırklareli\", \"Kırşehir\", \"Kilis\", \"Kocaeli\",\n",
    "    \"Konya\", \"Kütahya\", \"Malatya\", \"Manisa\", \"Mardin\", \"Mersin\", \"Muğla\", \"Muş\", \"Nevşehir\",\n",
    "    \"Niğde\", \"Ordu\", \"Osmaniye\", \"Rize\", \"Sakarya\", \"Samsun\", \"Siirt\", \"Sinop\", \"Sivas\", \"Şanlıurfa\",\n",
    "    \"Şırnak\", \"Tekirdağ\", \"Tokat\", \"Trabzon\", \"Tunceli\", \"Uşak\", \"Van\", \"Yalova\", \"Yozgat\", \"Zonguldak\"\n",
    "]\n",
    "\n",
    "# Il_Bolge sütunu yalnızca şehir listesinde olanları al\n",
    "gercek_sehirler = df[df[\"Il_Bolge\"].isin(sehir_listesi)]\n",
    "\n",
    "# Toplam krediye göre sırala\n",
    "ilk10_sehir = gercek_sehirler.sort_values(by=\"Toplam\", ascending=False).head(10)\n",
    "\n",
    "# Göster\n",
    "ilk10_sehir[[\"Il_Bolge\", \"Toplam\"]]"
   ]
  },
  {
   "cell_type": "code",
   "execution_count": null,
   "id": "3115b59a",
   "metadata": {},
   "outputs": [],
   "source": [
    "plt.figure(figsize=(12, 6))\n",
    "sns.barplot(data=ilk10_sehir, x=\"Toplam\", y=\"Il_Bolge\", palette=\"rocket\")\n",
    "\n",
    "plt.title(\"Toplam Kredi Tutarına Göre En Borçlu 10 İl (2023)\", fontsize=14)\n",
    "plt.xlabel(\"Toplam Kredi (Milyon TL)\", fontsize=12)\n",
    "plt.ylabel(\"İl\", fontsize=12)\n",
    "plt.xticks(fontsize=10)\n",
    "plt.yticks(fontsize=10)\n",
    "plt.grid(axis=\"x\", linestyle=\"--\", alpha=0.3)\n",
    "\n",
    "plt.tight_layout()\n",
    "plt.show()"
   ]
  },
  {
   "cell_type": "markdown",
   "id": "71cb13ac",
   "metadata": {},
   "source": [
    "## En Fazla Kredi Kullanan İlk 10 Şehir (2023)\n",
    "\n",
    "Aşağıdaki grafik, Türkiye'de 2023 yılı itibariyle **en yüksek toplam kredi tutarına sahip 10 ili** göstermektedir.\n",
    "Analizde yalnızca Türkiye'nin resmi 81 ilinden oluşan şehir listesi dikkate alınmıştır.\n",
    "\"Bölge toplamları\", \"yabancı ülkeler\" gibi şehir dışı kategoriler filtrelenerek analiz dışı bırakılmıştır.\n",
    "\n",
    "Bu grafik, Türkiye'nin ekonomik borçlanma yükünün bölgesel dağılımına dair ilk görsel veridir.\n",
    "Özellikle büyükşehirlerin kredi yükü, dikkat çekici biçimde ön plandadır."
   ]
  },
  {
   "cell_type": "code",
   "execution_count": null,
   "id": "e59c3730",
   "metadata": {},
   "outputs": [],
   "source": [
    "import pandas as pd\n",
    "\n",
    "# Dosya yolu\n",
    "issizlik_dosya = \"/content/drive/MyDrive/Veri_Analizi_Projeleri_Yelvar/il duzeyinde issizlik orani.xls\"\n",
    "\n",
    "# Dosyayı oku\n",
    "df_issizlik = pd.read_excel(issizlik_dosya)\n",
    "\n",
    "# İlk 5 satırı göster\n",
    "df_issizlik.head()"
   ]
  },
  {
   "cell_type": "code",
   "execution_count": null,
   "id": "fb8e853e",
   "metadata": {},
   "outputs": [],
   "source": [
    "# 5 satırı atlayarak veriyi oku\n",
    "df_issizlik = pd.read_excel(issizlik_dosya, skiprows=5)\n",
    "\n",
    "# İlk 10 satırı göster\n",
    "df_issizlik.head(10)"
   ]
  },
  {
   "cell_type": "code",
   "execution_count": null,
   "id": "3872da4f",
   "metadata": {},
   "outputs": [],
   "source": [
    "# Türkiye satırını temizle (farklı yazım şekillerine karşı)\n",
    "df_issizlik_temiz = df_issizlik_temiz[~df_issizlik_temiz[\"Il_Bolge\"].str.lower().str.strip().eq(\"türkiye\")]"
   ]
  },
  {
   "cell_type": "code",
   "execution_count": null,
   "id": "e4e67890",
   "metadata": {},
   "outputs": [],
   "source": [
    "df_issizlik_temiz.head(10)"
   ]
  },
  {
   "cell_type": "code",
   "execution_count": null,
   "id": "ad7aa366",
   "metadata": {},
   "outputs": [],
   "source": [
    "# Kredi verisiyle işsizlik verisini birleştir\n",
    "df_merged = pd.merge(gercek_sehirler, df_issizlik_temiz, on=\"Il_Bolge\", how=\"inner\")\n",
    "\n",
    "# İlk 10 satırı görelim\n",
    "df_merged[[\"Il_Bolge\", \"Toplam\", \"Issizlik_Orani\"]].head(10)"
   ]
  },
  {
   "cell_type": "code",
   "execution_count": null,
   "id": "bf2f685a",
   "metadata": {},
   "outputs": [],
   "source": [
    "# İşsizlik oranı ile toplam kredi arasındaki korelasyonu hesapla\n",
    "korelasyon = df_merged[\"Toplam\"].corr(df_merged[\"Issizlik_Orani\"])\n",
    "print(\"Kredi ile işsizlik oranı arasındaki korelasyon:\", korelasyon)"
   ]
  },
  {
   "cell_type": "code",
   "execution_count": null,
   "id": "8ad03be6",
   "metadata": {},
   "outputs": [],
   "source": [
    "import seaborn as sns\n",
    "import matplotlib.pyplot as plt\n",
    "\n",
    "plt.figure(figsize=(8, 6))\n",
    "sns.scatterplot(data=df_merged, x=\"Issizlik_Orani\", y=\"Toplam\")\n",
    "\n",
    "plt.title(\"İşsizlik Oranı ile Toplam Kredi Tutarı İlişkisi\", fontsize=13)\n",
    "plt.xlabel(\"İşsizlik Oranı (%)\")\n",
    "plt.ylabel(\"Toplam Kredi Tutarı (Milyon TL)\")\n",
    "plt.grid(True)\n",
    "plt.tight_layout()\n",
    "plt.show()"
   ]
  },
  {
   "cell_type": "markdown",
   "id": "5395def3",
   "metadata": {},
   "source": [
    "## 📊 Türkiye'de İl Bazında Kredi Kullanımı ile İşsizlik Oranı Arasındaki İlişki (2023)\n",
    "\n",
    "Bu çalışmada, Türkiye'deki şehirlerin 2023 yılı toplam kredi kullanım tutarları ile aynı yılın işsizlik oranları karşılaştırılmıştır.\n",
    "\n",
    "### 📌 Bulgular:\n",
    "- Kredi ile işsizlik oranı arasındaki Pearson korelasyonu: **-0.007**\n",
    "- Bu değer, iki değişken arasında anlamlı bir doğrusal ilişki olmadığını göstermektedir.\n",
    "- Scatter plot analizi, özellikle büyükşehirlerin diğer illere kıyasla aşırı yüksek kredi kullanımı nedeniyle dağılımı bozduğunu göstermektedir.\n",
    "\n",
    "### 📈 Sonuç:\n",
    "- Kredi kullanım davranışı sadece işsizlik oranı ile açıklanamaz.\n",
    "- Alternatif değişkenlerin (nüfus, gelir, sektörel yapı) dahil edilmesi gerekmektedir."
   ]
  },
  {
   "cell_type": "code",
   "execution_count": null,
   "id": "f7b4ab4b",
   "metadata": {},
   "outputs": [],
   "source": [
    "import statsmodels.api as sm\n",
    "\n",
    "X = df_merged[\"Issizlik_Orani\"]\n",
    "y = df_merged[\"Toplam\"]\n",
    "X = sm.add_constant(X)\n",
    "\n",
    "model = sm.OLS(y, X).fit()\n",
    "model.summary()"
   ]
  },
  {
   "cell_type": "markdown",
   "id": "a69c8c0f",
   "metadata": {},
   "source": [
    "## 🔍 Model Geliştirme: Neden Nüfus Verisini Dahil Ediyoruz?\n",
    "\n",
    "Yukarıdaki analizde, işsizlik oranının şehirlerdeki toplam kredi kullanımını açıklamakta yetersiz kaldığı gözlemlenmiştir. Elde edilen regresyon modelinin R² değeri sıfıra yakın çıkmış ve değişkenler arasında anlamlı bir ilişki bulunamamıştır.\n",
    "\n",
    "Bu noktada, **toplam kredi tutarı gibi mutlak değerlerin**, şehirlerin nüfus büyüklüklerinden etkilenebileceği gerçeği göz önünde bulundurulmalıdır. Örneğin İstanbul gibi büyük nüfuslu şehirler doğal olarak yüksek kredi kullanımına sahiptir. Ancak bu durum, şehirlerin krediye olan erişimini veya finansal riskini doğrudan yansıtmaz.\n",
    "\n",
    "### 📈 Bu Sorunu Aşmak İçin:\n",
    "\n",
    "- Mutlak kredi değerini **normalize ederek**, kişi başına düşen kredi miktarına odaklanmak daha anlamlı olacaktır.\n",
    "- Bu yaklaşım, şehirleri büyüklüklerinden bağımsız olarak kıyaslamamıza olanak tanır.\n",
    "- Aynı zamanda **bağımlı değişkenin varyansını azaltarak** daha stabil ve anlamlı regresyon sonuçları elde edilmesini sağlar.\n",
    "\n",
    "### 📌 Özetle:\n",
    "> Toplam kredi → Mutlak düzeyde etkili fakat kıyaslanabilir değil  \n",
    "> Kişi başına kredi → Normalize edilmiş, şehirler arası karşılaştırmaya uygun\n",
    "\n",
    "Bu nedenle analizimize il bazında 2023 yılı nüfus verisi eklenerek, kişi başı kredi miktarları üzerinden yeniden modelleme yapılacaktır."
   ]
  },
  {
   "cell_type": "code",
   "execution_count": null,
   "id": "fa5a71eb",
   "metadata": {},
   "outputs": [],
   "source": [
    "# Nüfus verisini oku\n",
    "nufus_dosya = \"/content/drive/MyDrive/Veri_Analizi_Projeleri_Yelvar/illere ve cinsiyete gore yabanci nufus.xls\"\n",
    "df_nufus = pd.read_excel(nufus_dosya, skiprows=4)\n",
    "\n",
    "# İlk 10 satıra bakalım\n",
    "df_nufus.head(10)"
   ]
  },
  {
   "cell_type": "code",
   "execution_count": null,
   "id": "771c77d2",
   "metadata": {},
   "outputs": [],
   "source": [
    "# Sütun adlarını yeniden isimlendir\n",
    "df_nufus_temiz = df_nufus.iloc[:, [0, 1]]  # 0: İl, 1: Toplam nüfus\n",
    "df_nufus_temiz.columns = [\"Il_Bolge\", \"Nufus\"]\n",
    "\n",
    "# İlk 5 satıra bakalım\n",
    "df_nufus_temiz.head()"
   ]
  },
  {
   "cell_type": "code",
   "execution_count": null,
   "id": "2747ea9b",
   "metadata": {},
   "outputs": [],
   "source": [
    "df_nufus_temiz.dtypes"
   ]
  },
  {
   "cell_type": "code",
   "execution_count": null,
   "id": "20556984",
   "metadata": {},
   "outputs": [],
   "source": [
    "# Kredi + işsizlik + nüfus verilerini birleştir\n",
    "df_final = pd.merge(df_merged, df_nufus_temiz, on=\"Il_Bolge\", how=\"inner\")\n",
    "\n",
    "# Kişi başı kredi hesapla\n",
    "df_final[\"Kisi_Basi_Kredi\"] = df_final[\"Toplam\"] / df_final[\"Nufus\"]\n",
    "\n",
    "# İlk 10 satıra bakalım\n",
    "df_final[[\"Il_Bolge\", \"Toplam\", \"Nufus\", \"Kisi_Basi_Kredi\", \"Issizlik_Orani\"]].head(10)"
   ]
  },
  {
   "cell_type": "code",
   "execution_count": null,
   "id": "42477635",
   "metadata": {},
   "outputs": [],
   "source": [
    "x = df_final[[\"Issizlik_Orani\"]]\n",
    "y = df_final[\"Kisi_Basi_Kredi\"]\n",
    "x = sm.add_constant(x)\n",
    "\n",
    "model = sm.OLS(y, x).fit()\n",
    "model.summary()"
   ]
  },
  {
   "cell_type": "code",
   "execution_count": null,
   "id": "c0818008",
   "metadata": {},
   "outputs": [],
   "source": [
    "import seaborn as sns\n",
    "import matplotlib.pyplot as plt\n",
    "\n",
    "plt.figure(figsize=(10,6))\n",
    "sns.regplot(data=df_final, x=\"Issizlik_Orani\", y=\"Kisi_Basi_Kredi\", ci=None, scatter_kws={\"s\": 60})\n",
    "plt.title(\"İşsizlik Oranı ile Kişi Başı Kredi Arasındaki İlişki\")\n",
    "plt.xlabel(\"İşsizlik Oranı (%)\")\n",
    "plt.ylabel(\"Kişi Başı Kredi (TL)\")\n",
    "plt.grid(True)\n",
    "plt.tight_layout()\n",
    "plt.show()"
   ]
  },
  {
   "cell_type": "markdown",
   "id": "01a12ad4",
   "metadata": {},
   "source": [
    "### 📊 Kişi Başı Kredi ile İşsizlik Oranı Arasındaki İlişki\n",
    "\n",
    "Bu analizde, Türkiye’de 2023 yılı itibarıyla il bazında **işsizlik oranları** ile **kişi başına düşen toplam kredi miktarı** arasındaki ilişki incelenmiştir.\n",
    "\n",
    "---\n",
    "\n",
    "#### 📌 Regresyon Analizi Sonuçları:\n",
    "- **İşsizlik oranı**, kişi başı kredi düzeyini açıklamada **istatistiksel olarak anlamlı** çıkmıştır *(p < 0.05)*.\n",
    "- Ancak **R² (determinasyon katsayısı) yalnızca %11.7** olup, bu değişkenin kredi miktarını tek başına yeterince açıklayamadığını göstermektedir.\n",
    "- Modelin katsayısı pozitiftir, bu da işsizlik oranı arttıkça kişi başı kredi miktarının da artabileceğine işaret eder.\n",
    "\n",
    "---\n",
    "\n",
    "#### 📉 Grafik Yorumu:\n",
    "- Scatter plot üzerinde pozitif eğimli bir doğru görülmektedir.\n",
    "- Bu durum, **işsizliğin yüksek olduğu illerde kişi başına düşen kredi yükünün daha fazla olabileceğini** düşündürmektedir.\n",
    "- Bu sonuçlar, bireylerin işsizlik nedeniyle borçlanmaya yönelmiş olabileceğini gösteriyor olabilir.\n",
    "\n",
    "---\n",
    "\n",
    "#### 🧠 Ekonometrik Değerlendirme:\n",
    "- Veriler doğru şekilde temizlenip birleştirilmiş; analizler \"Ordinary Least Squares\" (OLS) yöntemiyle yapılmıştır.\n",
    "- **İl bazlı nüfus verisi** ile kişi başı kredi türetilerek çok daha anlamlı bir gösterge oluşturulmuştur.\n",
    "- Bu analiz, mikro düzeyde ekonomik davranışlara dair temel bir çıkarım niteliği taşımaktadır.\n",
    "\n",
    "---\n",
    "\n",
    "#### 📌 Sonuç:\n",
    "İşsizlik oranı ile kişi başına düşen kredi arasında **anlamlı fakat zayıf** bir ilişki vardır."
   ]
  },
  {
   "cell_type": "code",
   "execution_count": null,
   "id": "a6482386",
   "metadata": {},
   "outputs": [],
   "source": [
    "# Gerçek şehirler listesi\n",
    "sehir_listesi = [\n",
    "    \"Adana\", \"Adıyaman\", \"Afyonkarahisar\", \"Ağrı\", \"Aksaray\", \"Amasya\", \"Ankara\", \"Antalya\", \"Artvin\",\n",
    "    \"Aydın\", \"Balıkesir\", \"Bartın\", \"Batman\", \"Bayburt\", \"Bilecik\", \"Bingöl\", \"Bitlis\", \"Bolu\",\n",
    "    \"Burdur\", \"Bursa\", \"Çanakkale\", \"Çankırı\", \"Çorum\", \"Denizli\", \"Diyarbakır\", \"Düzce\", \"Edirne\",\n",
    "    \"Elazığ\", \"Erzincan\", \"Erzurum\", \"Eskişehir\", \"Gaziantep\", \"Giresun\", \"Gümüşhane\", \"Hakkari\",\n",
    "    \"Hatay\", \"Iğdır\", \"Isparta\", \"İstanbul\", \"İzmir\", \"Kahramanmaraş\", \"Karabük\", \"Karaman\",\n",
    "    \"Kars\", \"Kastamonu\", \"Kayseri\", \"Kırıkkale\", \"Kırklareli\", \"Kırşehir\", \"Kilis\", \"Kocaeli\",\n",
    "    \"Konya\", \"Kütahya\", \"Malatya\", \"Manisa\", \"Mardin\", \"Mersin\", \"Muğla\", \"Muş\", \"Nevşehir\",\n",
    "    \"Niğde\", \"Ordu\", \"Osmaniye\", \"Rize\", \"Sakarya\", \"Samsun\", \"Siirt\", \"Sinop\", \"Sivas\", \"Şanlıurfa\",\n",
    "    \"Şırnak\", \"Tekirdağ\", \"Tokat\", \"Trabzon\", \"Tunceli\", \"Uşak\", \"Van\", \"Yalova\", \"Yozgat\", \"Zonguldak\"\n",
    "]\n",
    "\n",
    "# Gerçek şehirleri süz\n",
    "gercek_sehirler = df[df[\"Il_Bolge\"].isin(sehir_listesi)]\n",
    "\n",
    "# İşsizlik ile birleştir\n",
    "df_merged = pd.merge(gercek_sehirler, df_issizlik_temiz, on=\"Il_Bolge\", how=\"inner\")\n",
    "\n",
    "# Nüfusla birleştir\n",
    "df_final = pd.merge(df_merged, df_nufus_temiz, on=\"Il_Bolge\", how=\"inner\")\n",
    "\n",
    "# Kişi başı kredi hesapla\n",
    "df_final[\"Kisi_Basi_Kredi\"] = df_final[\"Toplam\"] / df_final[\"Nufus\"]"
   ]
  },
  {
   "cell_type": "code",
   "execution_count": null,
   "id": "87db3be0",
   "metadata": {},
   "outputs": [],
   "source": [
    "from scipy.stats import zscore\n",
    "\n",
    "# Z-skorlarını hesapla\n",
    "df_final[\"Kredi_Z_Skoru\"] = zscore(df_final[\"Kisi_Basi_Kredi\"])\n",
    "df_final[\"Issizlik_Z_Skoru\"] = zscore(df_final[\"Issizlik_Orani\"])\n",
    "\n",
    "# Toplam risk skoru\n",
    "df_final[\"Ekonomik_Risk_Skoru\"] = df_final[\"Kredi_Z_Skoru\"] + df_final[\"Issizlik_Z_Skoru\"]"
   ]
  },
  {
   "cell_type": "markdown",
   "id": "8453ea37",
   "metadata": {},
   "source": [
    "## Ekonomik Risk Haritası (Z-Skor Bazlı)\n",
    "\n",
    "Bu analizde, şehirlerin işsizlik oranı ve kişi başı kredi tutarı verileri standartlaştırılarak (z-score) her şehir için ekonomik risk skoru oluşturulmuştur.\n",
    "\n",
    "Z-skor yöntemiyle hesaplanan bu skor, iki temel faktörün (kredi ve işsizlik) birlikte ne kadar uç değerler gösterdiğini ölçer.\n",
    "\n",
    "**Ekonomik_Risk_Skoru = Kredi_Z_Skoru + İşsizlik_Z_Skoru**\n",
    "\n",
    "Yüksek skor, bir şehirde hem yüksek işsizlik hem de yüksek kredi kullanımına işaret eder ve ekonomik açıdan kırılganlığı temsil eder.\n",
    "\n",
    "### 🔍 Öne Çıkan Bulgular:\n",
    "\n",
    "- En yüksek risk skoru **Diyarbakır**, **Hakkari** ve **Osmaniye** gibi şehirlerde gözlemlenmiştir.\n",
    "- Bu şehirlerde muhtemelen yüksek işsizlik oranı ile birlikte görece yüksek kredi yükü bulunmaktadır.\n",
    "- Harita, sosyal yardımlar, kredi politikaları veya bölgesel kalkınma planlamaları açısından stratejik veri sağlamaktadır."
   ]
  },
  {
   "cell_type": "code",
   "execution_count": null,
   "id": "df25e954",
   "metadata": {},
   "outputs": [],
   "source": [
    "# Z skorlarını hesapla\n",
    "df_final[\"Z_Kredi\"] = zscore(df_final[\"Toplam\"])\n",
    "df_final[\"Z_Issizlik\"] = zscore(df_final[\"Issizlik_Orani\"])\n",
    "df_final[\"Toplam_Z_Skoru\"] = df_final[\"Z_Kredi\"] + df_final[\"Z_Issizlik\"]\n",
    "\n",
    "# En riskli 10 şehir\n",
    "en_riskli_10 = df_final.sort_values(\"Toplam_Z_Skoru\", ascending=False).head(10)\n",
    "\n",
    "# Grafik çiz\n",
    "plt.figure(figsize=(10, 6))\n",
    "sns.barplot(data=en_riskli_10, x=\"Il_Bolge\", y=\"Toplam_Z_Skoru\", palette=\"Reds_r\")\n",
    "plt.title(\"En Riskli 10 Şehir - Ekonomik Risk Skoru\")\n",
    "plt.ylabel(\"Toplam Z-Skoru (Kredi + İşsizlik)\")\n",
    "plt.xlabel(\"Şehir\")\n",
    "plt.xticks(rotation=45)\n",
    "plt.tight_layout()\n",
    "plt.show()"
   ]
  },
  {
   "cell_type": "markdown",
   "id": "d46e423c",
   "metadata": {},
   "source": [
    "Bu grafik, şehirlerin kredi kullanımı ve işsizlik oranı temel alınarak hesaplanan Z-skorlarına göre oluşturulan ekonomik risk skorlarını göstermektedir. Z-skorları sayesinde her şehir, Türkiye ortalamasından ne kadar sapma gösterdiğine göre standartlaştırılmıştır.\n",
    "\n",
    "Toplam Z-Skoru, bir ilin kredi yükü ve işsizlik oranındaki sapmasını bir araya getirerek risk seviyesini yansıtır.\n",
    "\n",
    "Grafikte yer alan şehirler, en yüksek toplam z-skoruna sahip olan ve bu sebeple ekonomik açıdan daha riskli kabul edilen 10 ildir.\n",
    "\n",
    "🔍 Öne Çıkan Bulgular:\n",
    "İstanbul, hem yüksek kredi kullanımı hem de işsizlik oranı ile en yüksek riskli şehir olarak öne çıkmaktadır.\n",
    "\n",
    "Hakkari, Van, Şırnak gibi doğu illeri yüksek işsizlikle dikkat çekerken, bazı metropoller (örneğin Ankara ve İzmir) kredi yoğunluğu nedeniyle riskli gruba girmiştir.\n",
    "\n",
    "Karmaşık ekonomik yapıya sahip iller, hem tüketim (kredi) hem de istihdam (işsizlik) yönünden kırılganlığı yansıtmaktadır.\n",
    "\n",
    "📈 Yorumsal Değerlendirme:\n",
    "Bu tür risk skorları, ekonomik planlama ve bölgesel kalkınma stratejilerinde öncelikli alanların belirlenmesi için yol gösterici olabilir. Hem makroekonomik hem de sosyal politikalar açısından riskli bölgelerin desteklenmesi, sürdürülebilir kalkınma hedefleriyle örtüşen stratejik adımlar olacaktır."
   ]
  },
  {
   "cell_type": "markdown",
   "id": "a41e53d5",
   "metadata": {},
   "source": [
    "Amaç:\n",
    "Kredi kullanımının yıllar içindeki değişimini şehir bazında incelemek. Bu, Türkiye'nin ekonomik dönüşümünü görselleştirmek ve makroekonomik eğilimleri ortaya koymak için yararlıdır."
   ]
  }
 ],
 "metadata": {
  "colab": {
   "provenance": []
  },
  "kernelspec": {
   "display_name": "Python 3",
   "name": "python3"
  },
  "language_info": {
   "name": "python"
  }
 },
 "nbformat": 4,
 "nbformat_minor": 5
}
